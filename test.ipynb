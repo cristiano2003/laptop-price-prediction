{
 "cells": [
  {
   "cell_type": "code",
   "execution_count": 9,
   "metadata": {},
   "outputs": [],
   "source": [
    "import requests"
   ]
  },
  {
   "cell_type": "code",
   "execution_count": 10,
   "metadata": {},
   "outputs": [],
   "source": [
    "url = 'https://www.anphatpc.com.vn/laptop-hp-probook-440-g10-873a2pa.html'\n",
    "\n",
    "response = requests.get(url)\n",
    "\n",
    "with open('test.html', 'w', encoding='utf-8') as f:\n",
    "    f.write(response.text)"
   ]
  },
  {
   "cell_type": "code",
   "execution_count": 11,
   "metadata": {},
   "outputs": [],
   "source": [
    "from bs4 import BeautifulSoup as bs"
   ]
  },
  {
   "cell_type": "code",
   "execution_count": 16,
   "metadata": {},
   "outputs": [
    {
     "name": "stdout",
     "output_type": "stream",
     "text": [
      "{'CPU': 'Intel Core i3-1315U (up to 4.5 GHz, 10MB)', 'RAM': '8GB (1 x 8GB) DDR4-3200MHz (2 khe)', 'Ổ cứng': '256GB PCIe® NVMe™ SSD', 'VGA': 'Intel UHD Graphics', 'Màn hình': '14 inch FHD (1920 x 1080), IPS, narrow bezel, anti-glare, 250 nits, 45% NTSC', 'Pin': '3-cell, 51 Wh', 'Cân nặng': '', 'Tính năng': 'Bảo mật vân tay', 'Màu sắc': 'Silver', 'OS': 'Windows 11 Home 64'}\n"
     ]
    }
   ],
   "source": [
    "\n",
    "soup = bs(response.text, 'html.parser')\n",
    "\n",
    "info = soup.find('div', {'class': 'pro-info-summary'})\n",
    "\n",
    "product_info: dict = {}\n",
    "\n",
    "for item in info:\n",
    "    text = item.text.strip()\n",
    "    if text == '':\n",
    "        continue\n",
    "    prop, value = map(lambda x: x.strip(), text.split(':'))\n",
    "    product_info[prop] = value\n",
    "\n",
    "print(product_info)"
   ]
  }
 ],
 "metadata": {
  "kernelspec": {
   "display_name": ".venv",
   "language": "python",
   "name": "python3"
  },
  "language_info": {
   "codemirror_mode": {
    "name": "ipython",
    "version": 3
   },
   "file_extension": ".py",
   "mimetype": "text/x-python",
   "name": "python",
   "nbconvert_exporter": "python",
   "pygments_lexer": "ipython3",
   "version": "3.11.6"
  }
 },
 "nbformat": 4,
 "nbformat_minor": 2
}
