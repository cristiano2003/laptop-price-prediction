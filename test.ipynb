{
 "cells": [
  {
   "cell_type": "code",
   "execution_count": 1,
   "metadata": {},
   "outputs": [],
   "source": [
    "# Get all the product links first\n",
    "\n",
    "anphat_config = 'config/anphat.json'\n",
    "import requests"
   ]
  },
  {
   "cell_type": "code",
   "execution_count": null,
   "metadata": {},
   "outputs": [],
   "source": []
  },
  {
   "cell_type": "code",
   "execution_count": 17,
   "metadata": {},
   "outputs": [
    {
     "name": "stdout",
     "output_type": "stream",
     "text": [
      "200\n",
      "12\n",
      "==>> href: /laptop-asus-rog-strix-scar-16-g634jz-n4029w.html\n",
      "==>> href: /laptop-gaming-asus-rog-flow-x13-gv302xu-mu223w.html\n",
      "==>> href: /laptop-asus-rog-zephyrus-duo-16-gx650pz-nm031w.html\n",
      "==>> href: /laptop-asus-rog-zephyrus-m16-gu604vi-nm779w.html\n",
      "==>> href: /laptop-asus-vivobook-pro-15-oled-k6502vu-ma090w.html\n",
      "==>> href: /laptop-asus-vivobook-pro-16-oled-k6602vv-mx077w.html\n",
      "==>> href: /laptop-asus-rog-flow-z13-gz301vu-mu301w.html\n",
      "==>> href: /laptop-asus-tuf-gaming-f15-fx507vv-lp157w.html\n",
      "==>> href: /laptop-asus-tuf-gaming-a15-fa507nu-lp131w.html\n",
      "==>> href: /laptop-asus-tuf-gaming-a16-fa617ns-n3486w.html\n",
      "==>> href: /laptop-asus-tuf-gaming-a15-fa507nu-lp031w.html\n",
      "==>> href: /laptop-asus-rog-strix-g16-g614jv-n4261w.html\n"
     ]
    }
   ],
   "source": [
    "import requests\n",
    "\n",
    "from bs4 import BeautifulSoup as bs\n",
    "\n",
    "url = \"https://www.anphatpc.com.vn/laptop-asus_dm1058.html?page=3\"\n",
    "\n",
    "response = requests.request(\"GET\", url)\n",
    "\n",
    "print(response.status_code)\n",
    "\n",
    "\n",
    "soup = bs(response.content, 'html.parser')\n",
    "\n",
    "# List container\n",
    "container = soup.find('div', {'class': 'p-list-container d-flex flex-wrap'}) \n",
    "            \n",
    "# List div \n",
    "list_div = container.find_all('div', {'class': 'p-item js-p-item'})\n",
    "\n",
    "print(len(list_div))\n",
    "\n",
    "for product in list_div:\n",
    "    href = product.find('a').get('href')\n",
    "    print(f\"==>> href: {href}\")\n",
    "    \n",
    "    "
   ]
  }
 ],
 "metadata": {
  "kernelspec": {
   "display_name": ".venv",
   "language": "python",
   "name": "python3"
  },
  "language_info": {
   "codemirror_mode": {
    "name": "ipython",
    "version": 3
   },
   "file_extension": ".py",
   "mimetype": "text/x-python",
   "name": "python",
   "nbconvert_exporter": "python",
   "pygments_lexer": "ipython3",
   "version": "3.11.6"
  }
 },
 "nbformat": 4,
 "nbformat_minor": 2
}
