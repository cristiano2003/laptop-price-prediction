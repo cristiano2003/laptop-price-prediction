{
 "cells": [
  {
   "cell_type": "code",
   "execution_count": 12,
   "metadata": {},
   "outputs": [],
   "source": [
    "from src.utils.selenium import ChromeDriver\n",
    "import time\n",
    "import os\n",
    "\n",
    "def fetch_html(url, manufacturer: str, id: int) -> bool:\n",
    "    try:\n",
    "        driver = ChromeDriver(headless=True).driver\n",
    "        driver.get(url)\n",
    "        html = driver.page_source\n",
    "\n",
    "        time.sleep(1)\n",
    "\n",
    "        os.makedirs('data/fpt/raw_htmls', exist_ok=True)\n",
    "        with open(f'data/fpt/raw_htmls/{manufacturer}_{id}.html', 'w', encoding='utf-8') as f:\n",
    "            f.write(html)\n",
    "\n",
    "        print('========> Successfully fetch HTML of', url)\n",
    "\n",
    "        time.sleep(3)\n",
    "\n",
    "        driver.execute_script(\"\"\"\n",
    "        show_more_btn = document.getElementsByClassName('re-link js--open-modal')\n",
    "        show_more_btn[0].click()\"\"\")\n",
    "\n",
    "        time.sleep(1.5)\n",
    "\n",
    "        data = driver.execute_script(\"\"\"\n",
    "        details = document.getElementsByClassName('card card-normal')\n",
    "        detail = details[0].innerHTML\n",
    "        return detail;\"\"\")\n",
    "\n",
    "        if data:\n",
    "            print('========> Successfully fetch detail HTML of', url)\n",
    "\n",
    "        os.makedirs('data/fpt/detail_htmls', exist_ok=True)\n",
    "        with open(f'data/fpt/detail_htmls/{manufacturer}_{id}.html', 'w', encoding='utf-8') as f:\n",
    "            f.write(data)\n",
    "\n",
    "        craw_info = {\n",
    "            'Manufacturer': manufacturer,\n",
    "            'Url': url,\n",
    "            'Raw_html_path': f'data/fpt/raw_htmls/{manufacturer}_{id}.html',\n",
    "            'Detail_specs_html_path': f'data/fpt/detail_htmls/{manufacturer}_{id}.html'\n",
    "        }\n",
    "\n",
    "        print(f'========> Successfully fetch HTML of {url}')\n",
    "\n",
    "        return craw_info\n",
    "    except Exception as e:\n",
    "        print(f'========> Fail to fetch HTML of {url}: {str(e)}')\n",
    "        return False"
   ]
  },
  {
   "cell_type": "code",
   "execution_count": 17,
   "metadata": {},
   "outputs": [
    {
     "name": "stdout",
     "output_type": "stream",
     "text": [
      "==>> manufacturer: lenovo\n",
      "==>> id: 32\n",
      "========> Successfully fetch HTML of https://fptshop.com.vn/may-tinh-xach-tay/lenovo-thinkbook-14s-yoga-itl-i7-1165g7\n",
      "========> Successfully fetch detail HTML of https://fptshop.com.vn/may-tinh-xach-tay/lenovo-thinkbook-14s-yoga-itl-i7-1165g7\n",
      "========> Successfully fetch HTML of https://fptshop.com.vn/may-tinh-xach-tay/lenovo-thinkbook-14s-yoga-itl-i7-1165g7\n"
     ]
    },
    {
     "data": {
      "text/plain": [
       "{'Manufacturer': 'lenovo',\n",
       " 'Url': 'https://fptshop.com.vn/may-tinh-xach-tay/lenovo-thinkbook-14s-yoga-itl-i7-1165g7',\n",
       " 'Raw_html_path': 'data/fpt/raw_htmls/lenovo_32.html',\n",
       " 'Detail_specs_html_path': 'data/fpt/detail_htmls/lenovo_32.html'}"
      ]
     },
     "execution_count": 17,
     "metadata": {},
     "output_type": "execute_result"
    }
   ],
   "source": [
    "path = 'data/fpt/raw_htmls/lenovo_32.html'\n",
    "\n",
    "manufacturer = path.split('/')[-1].split('_')[0]\n",
    "print(f\"==>> manufacturer: {manufacturer}\")\n",
    "id = path.split('/')[-1].split('_')[1].split('.')[0]\n",
    "print(f\"==>> id: {id}\")\n",
    "\n",
    "import sqlite3\n",
    "\n",
    "conn = sqlite3.connect('database/introds.db')\n",
    "\n",
    "url = conn.execute(f'SELECT Url FROM fpt_fetch_results WHERE Raw_html_path = \"{path}\"').fetchone()[0]\n",
    "\n",
    "fetch_html(url, manufacturer, id)"
   ]
  }
 ],
 "metadata": {
  "kernelspec": {
   "display_name": ".venv",
   "language": "python",
   "name": "python3"
  },
  "language_info": {
   "codemirror_mode": {
    "name": "ipython",
    "version": 3
   },
   "file_extension": ".py",
   "mimetype": "text/x-python",
   "name": "python",
   "nbconvert_exporter": "python",
   "pygments_lexer": "ipython3",
   "version": "3.11.6"
  }
 },
 "nbformat": 4,
 "nbformat_minor": 2
}
