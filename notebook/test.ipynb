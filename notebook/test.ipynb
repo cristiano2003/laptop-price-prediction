{
 "cells": [
  {
   "cell_type": "code",
   "execution_count": 1,
   "metadata": {},
   "outputs": [
    {
     "name": "stdout",
     "output_type": "stream",
     "text": [
      "/Users/datvodinh/Documents/Github/data-science-project\n"
     ]
    }
   ],
   "source": [
    "%cd .."
   ]
  },
  {
   "cell_type": "code",
   "execution_count": 2,
   "metadata": {},
   "outputs": [],
   "source": [
    "import pandas as pd\n",
    "import numpy as np\n",
    "import seaborn as sns\n",
    "import matplotlib.pyplot as plt\n",
    "import polars as pl\n",
    "from sklearn.model_selection import train_test_split\n",
    "from src.model.model import LaptopPredictionModel\n",
    "import pickle"
   ]
  },
  {
   "cell_type": "code",
   "execution_count": 3,
   "metadata": {},
   "outputs": [],
   "source": [
    "data = pd.read_csv('./data/process_data.csv')\n",
    "with open('./checkpoint/XGBRegressor.pkl', 'rb') as f:\n",
    "    model = pickle.load(f)"
   ]
  },
  {
   "cell_type": "code",
   "execution_count": 4,
   "metadata": {},
   "outputs": [],
   "source": [
    "features = data.drop(['Price (VND)'], axis=1)\n",
    "labels = np.log(data['Price (VND)'])\n",
    "X_train, X_test, y_train, y_test = train_test_split(\n",
    "    np.array(features), np.array(labels), test_size=0.1, random_state=42\n",
    "    )\n",
    "columns = features.columns"
   ]
  },
  {
   "cell_type": "code",
   "execution_count": 5,
   "metadata": {},
   "outputs": [],
   "source": [
    "from sklearn.metrics import r2_score"
   ]
  },
  {
   "cell_type": "code",
   "execution_count": 6,
   "metadata": {},
   "outputs": [
    {
     "data": {
      "text/plain": [
       "0.8748922831656005"
      ]
     },
     "execution_count": 6,
     "metadata": {},
     "output_type": "execute_result"
    }
   ],
   "source": [
    "r2_score(y_test, model.predict(X_test))"
   ]
  },
  {
   "cell_type": "code",
   "execution_count": 7,
   "metadata": {},
   "outputs": [
    {
     "data": {
      "text/plain": [
       "array([18918080., 38217464., 18756828., 60568228., 13879465., 22489526.,\n",
       "       28972124., 19458906., 33645644., 23358126., 11280632., 16140463.,\n",
       "       17031054., 13767173., 31047890., 16821724., 15028677., 87971240.,\n",
       "       38346704., 22664920., 14768218., 29782192., 25392996., 23975984.,\n",
       "       12057055., 14412471., 28079408., 21584242., 13752922., 34711952.,\n",
       "       12810553., 17542710., 21516380., 59913760., 18752034., 15327488.,\n",
       "       16809984., 23329808., 39991408., 26619906., 24049448., 12150414.,\n",
       "       13787802., 19293338., 14824435., 29363666., 25725666., 12512389.,\n",
       "       25292504., 11376635., 23919938., 28238008., 20179754., 10772702.,\n",
       "       28540858., 14007947., 20664924., 15534512., 31289850., 35310540.,\n",
       "       21565806., 28267538., 25191686., 32675168., 33933276., 20041780.,\n",
       "       44681512., 17976442., 15384690., 18434078., 18698070., 49895672.,\n",
       "       24994548., 25813796., 25288548., 34078044., 26053796., 45186048.,\n",
       "       28675252., 40329824., 41742464., 30874568., 13325747., 17695280.,\n",
       "       24161588., 23065000., 20613276.], dtype=float32)"
      ]
     },
     "execution_count": 7,
     "metadata": {},
     "output_type": "execute_result"
    }
   ],
   "source": [
    "np.exp(model.predict(X_test))"
   ]
  },
  {
   "cell_type": "code",
   "execution_count": null,
   "metadata": {},
   "outputs": [],
   "source": []
  }
 ],
 "metadata": {
  "kernelspec": {
   "display_name": "venv",
   "language": "python",
   "name": "python3"
  },
  "language_info": {
   "codemirror_mode": {
    "name": "ipython",
    "version": 3
   },
   "file_extension": ".py",
   "mimetype": "text/x-python",
   "name": "python",
   "nbconvert_exporter": "python",
   "pygments_lexer": "ipython3",
   "version": "3.11.5"
  }
 },
 "nbformat": 4,
 "nbformat_minor": 2
}
