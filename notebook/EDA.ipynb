{
 "cells": [
  {
   "cell_type": "code",
   "execution_count": 2,
   "metadata": {},
   "outputs": [
    {
     "name": "stdout",
     "output_type": "stream",
     "text": [
      "/home/datvodinh/Documents/Github/data-science-project\n"
     ]
    }
   ],
   "source": [
    "%cd .."
   ]
  },
  {
   "cell_type": "code",
   "execution_count": 1,
   "metadata": {},
   "outputs": [],
   "source": [
    "import polars as pl\n",
    "import pandas as pd\n",
    "import numpy as np"
   ]
  },
  {
   "cell_type": "code",
   "execution_count": 4,
   "metadata": {},
   "outputs": [],
   "source": [
    "data = pl.read_csv(\"data/data_9.csv\")"
   ]
  },
  {
   "cell_type": "code",
   "execution_count": 9,
   "metadata": {},
   "outputs": [
    {
     "data": {
      "text/html": [
       "<div><style>\n",
       ".dataframe > thead > tr > th,\n",
       ".dataframe > tbody > tr > td {\n",
       "  text-align: right;\n",
       "  white-space: pre-wrap;\n",
       "}\n",
       "</style>\n",
       "<small>shape: (5, 14)</small><table border=\"1\" class=\"dataframe\"><thead><tr><th>_id</th><th>url</th><th>price</th><th>brand</th><th>cpu</th><th>memory</th><th>weight</th><th>screen_size</th><th>screen_resolution</th><th>graphic_name</th><th>graphic_type</th><th>storage</th><th>battery</th><th>refresh_rate</th></tr><tr><td>str</td><td>str</td><td>f64</td><td>str</td><td>str</td><td>str</td><td>str</td><td>str</td><td>str</td><td>str</td><td>str</td><td>str</td><td>str</td><td>str</td></tr></thead><tbody><tr><td>&quot;65486dac5b1233…</td><td>&quot;https://www.ne…</td><td>1009.0</td><td>&quot;MSI&quot;</td><td>&quot;Intel Core i5-…</td><td>&quot;16GB&quot;</td><td>&quot;4.29 lbs.&quot;</td><td>&quot;14.0&quot;</td><td>&quot;1920 x 1200&quot;</td><td>&quot;Intel Iris Xe …</td><td>&quot;Integrated Car…</td><td>&quot;512 GB NVMe&quot;</td><td>&quot;72 whrs&quot;</td><td>&quot;60 Hz&quot;</td></tr><tr><td>&quot;65486dad5b1233…</td><td>&quot;https://www.ne…</td><td>1399.99</td><td>&quot;ASUS&quot;</td><td>&quot;AMD Ryzen 9 79…</td><td>&quot;32GB&quot;</td><td>&quot;3.97 lbs.&quot;</td><td>&quot;15.6&quot;</td><td>&quot;1920 x 1080&quot;</td><td>&quot;NVIDIA GeForce…</td><td>&quot;Dedicated Card…</td><td>&quot;1 TB PCIe&quot;</td><td>&quot;70 whrs&quot;</td><td>&quot;144 Hz&quot;</td></tr><tr><td>&quot;65486dad5b1233…</td><td>&quot;https://www.ne…</td><td>679.99</td><td>&quot;LG&quot;</td><td>&quot;Ryzen 5 5625U&quot;</td><td>&quot;8GB LPDDR4X&quot;</td><td>null</td><td>&quot;14.0&quot;</td><td>&quot;1920 x 1200&quot;</td><td>&quot;AMD Radeon Gra…</td><td>null</td><td>&quot;512 GB&quot;</td><td>null</td><td>&quot;60 Hz&quot;</td></tr><tr><td>&quot;65486dad5b1233…</td><td>&quot;https://www.ne…</td><td>699.0</td><td>&quot;MSI&quot;</td><td>&quot;Intel Core i5-…</td><td>&quot;32GB&quot;</td><td>&quot;3.75 lbs.&quot;</td><td>&quot;15.6&quot;</td><td>&quot;1920 x 1080&quot;</td><td>&quot;Intel Iris Xe …</td><td>&quot;Integrated Car…</td><td>&quot;1 TB PCIe&quot;</td><td>&quot;39.3 whrs&quot;</td><td>&quot;60 Hz&quot;</td></tr><tr><td>&quot;65486dad5b1233…</td><td>&quot;https://www.ne…</td><td>1299.99</td><td>&quot;LG&quot;</td><td>&quot;Intel Core i7-…</td><td>&quot;16GB&quot;</td><td>&quot;2.65 lbs.&quot;</td><td>&quot;16.0&quot;</td><td>&quot;2560 x 1600&quot;</td><td>&quot;Intel Iris Xe …</td><td>&quot;Integrated Car…</td><td>&quot;1 TB PCIe&quot;</td><td>&quot;80 whrs&quot;</td><td>&quot;60 Hz&quot;</td></tr></tbody></table></div>"
      ],
      "text/plain": [
       "shape: (5, 14)\n",
       "┌────────────┬────────────┬─────────┬───────┬───┬────────────┬────────────┬───────────┬────────────┐\n",
       "│ _id        ┆ url        ┆ price   ┆ brand ┆ … ┆ graphic_ty ┆ storage    ┆ battery   ┆ refresh_ra │\n",
       "│ ---        ┆ ---        ┆ ---     ┆ ---   ┆   ┆ pe         ┆ ---        ┆ ---       ┆ te         │\n",
       "│ str        ┆ str        ┆ f64     ┆ str   ┆   ┆ ---        ┆ str        ┆ str       ┆ ---        │\n",
       "│            ┆            ┆         ┆       ┆   ┆ str        ┆            ┆           ┆ str        │\n",
       "╞════════════╪════════════╪═════════╪═══════╪═══╪════════════╪════════════╪═══════════╪════════════╡\n",
       "│ 65486dac5b ┆ https://ww ┆ 1009.0  ┆ MSI   ┆ … ┆ Integrated ┆ 512 GB     ┆ 72 whrs   ┆ 60 Hz      │\n",
       "│ 123315f9ee ┆ w.newegg.c ┆         ┆       ┆   ┆ Card       ┆ NVMe       ┆           ┆            │\n",
       "│ fd16       ┆ om/ink-bla ┆         ┆       ┆   ┆            ┆            ┆           ┆            │\n",
       "│            ┆ ck…        ┆         ┆       ┆   ┆            ┆            ┆           ┆            │\n",
       "│ 65486dad5b ┆ https://ww ┆ 1399.99 ┆ ASUS  ┆ … ┆ Dedicated  ┆ 1 TB PCIe  ┆ 70 whrs   ┆ 144 Hz     │\n",
       "│ 123315f9ee ┆ w.newegg.c ┆         ┆       ┆   ┆ Card       ┆            ┆           ┆            │\n",
       "│ fd17       ┆ om/quiet-b ┆         ┆       ┆   ┆            ┆            ┆           ┆            │\n",
       "│            ┆ lu…        ┆         ┆       ┆   ┆            ┆            ┆           ┆            │\n",
       "│ 65486dad5b ┆ https://ww ┆ 679.99  ┆ LG    ┆ … ┆ null       ┆ 512 GB     ┆ null      ┆ 60 Hz      │\n",
       "│ 123315f9ee ┆ w.newegg.c ┆         ┆       ┆   ┆            ┆            ┆           ┆            │\n",
       "│ fd18       ┆ om/charcoa ┆         ┆       ┆   ┆            ┆            ┆           ┆            │\n",
       "│            ┆ l-…        ┆         ┆       ┆   ┆            ┆            ┆           ┆            │\n",
       "│ 65486dad5b ┆ https://ww ┆ 699.0   ┆ MSI   ┆ … ┆ Integrated ┆ 1 TB PCIe  ┆ 39.3 whrs ┆ 60 Hz      │\n",
       "│ 123315f9ee ┆ w.newegg.c ┆         ┆       ┆   ┆ Card       ┆            ┆           ┆            │\n",
       "│ fd19       ┆ om/classic ┆         ┆       ┆   ┆            ┆            ┆           ┆            │\n",
       "│            ┆ -b…        ┆         ┆       ┆   ┆            ┆            ┆           ┆            │\n",
       "│ 65486dad5b ┆ https://ww ┆ 1299.99 ┆ LG    ┆ … ┆ Integrated ┆ 1 TB PCIe  ┆ 80 whrs   ┆ 60 Hz      │\n",
       "│ 123315f9ee ┆ w.newegg.c ┆         ┆       ┆   ┆ Card       ┆            ┆           ┆            │\n",
       "│ fd1a       ┆ om/charcoa ┆         ┆       ┆   ┆            ┆            ┆           ┆            │\n",
       "│            ┆ l-…        ┆         ┆       ┆   ┆            ┆            ┆           ┆            │\n",
       "└────────────┴────────────┴─────────┴───────┴───┴────────────┴────────────┴───────────┴────────────┘"
      ]
     },
     "execution_count": 9,
     "metadata": {},
     "output_type": "execute_result"
    }
   ],
   "source": [
    "data.head()"
   ]
  },
  {
   "cell_type": "code",
   "execution_count": 11,
   "metadata": {},
   "outputs": [
    {
     "data": {
      "text/plain": [
       "['_id',\n",
       " 'url',\n",
       " 'price',\n",
       " 'brand',\n",
       " 'cpu',\n",
       " 'memory',\n",
       " 'weight',\n",
       " 'screen_size',\n",
       " 'screen_resolution',\n",
       " 'graphic_name',\n",
       " 'graphic_type',\n",
       " 'storage',\n",
       " 'battery',\n",
       " 'refresh_rate']"
      ]
     },
     "execution_count": 11,
     "metadata": {},
     "output_type": "execute_result"
    }
   ],
   "source": [
    "data.columns"
   ]
  },
  {
   "cell_type": "code",
   "execution_count": null,
   "metadata": {},
   "outputs": [],
   "source": []
  }
 ],
 "metadata": {
  "kernelspec": {
   "display_name": "venv",
   "language": "python",
   "name": "python3"
  },
  "language_info": {
   "codemirror_mode": {
    "name": "ipython",
    "version": 3
   },
   "file_extension": ".py",
   "mimetype": "text/x-python",
   "name": "python",
   "nbconvert_exporter": "python",
   "pygments_lexer": "ipython3",
   "version": "3.11.5"
  }
 },
 "nbformat": 4,
 "nbformat_minor": 2
}
