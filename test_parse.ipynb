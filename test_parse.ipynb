{
 "cells": [
  {
   "cell_type": "code",
   "execution_count": 2,
   "metadata": {},
   "outputs": [],
   "source": [
    "from bs4 import BeautifulSoup as bs\n",
    "import os\n",
    "import sqlite3\n",
    "\n",
    "def _parse_html(conn: sqlite3.Connection, raw_html_path: str, detail_specs_html_path: str) -> dict:\n",
    "    output = {}\n",
    "    \n",
    "    \n",
    "    if not os.path.exists(raw_html_path) or not os.path.exists(detail_specs_html_path):\n",
    "        return {\n",
    "            'status': 'error',\n",
    "            'message': 'File not found',\n",
    "            'data': None\n",
    "        }\n",
    "    \n",
    "    with open(raw_html_path, 'r', encoding='utf-8') as f:\n",
    "        raw_html = f.read()\n",
    "    \n",
    "    with open(detail_specs_html_path, 'r', encoding='utf-8') as f:\n",
    "        detail_specs_html = f.read()\n",
    "        \n",
    "    raw_soup = bs(raw_html, 'html.parser')\n",
    "    detail_specs_soup = bs(detail_specs_html, 'html.parser')\n",
    "    \n",
    "    # Get the manufacturer\n",
    "    manufacturer = conn.execute(f'''\n",
    "                    select Manufacturer from fpt_fetch_results\n",
    "                    where RawHtmlPath = {raw_html_path}\n",
    "                                ''').fetchone()[0]\n",
    "    output['manufacturer'] = manufacturer\n",
    "\n",
    "    # Get the model\n",
    "    \n",
    "    \n",
    "    \n",
    "    "
   ]
  },
  {
   "cell_type": "code",
   "execution_count": 5,
   "metadata": {},
   "outputs": [
    {
     "data": {
      "text/plain": [
       "<div class=\"c-modal__content\"><div class=\"c-modal__row\" id=\"data-0\"><div class=\"st-table-title\">Thông tin hàng hóa</div><ul class=\"st-list\"><li><span class=\"dots\"></span>P/N:  <div>NH.QGESV.004</div></li><li><span class=\"dots\"></span>Thương hiệu:  <div>Acer</div></li><li><span class=\"dots\"></span>Xuất xứ:  <div>Trung Quốc</div></li><li><span class=\"dots\"></span>Thời điểm ra mắt:  <div>2023</div></li><li><span class=\"dots\"></span>Thời gian bảo hành (tháng):  <div>12</div></li><li><span class=\"dots\"></span>Hướng dẫn bảo quản:  <div>Để nơi khô ráo, nhẹ tay, dễ vỡ.</div></li><li><span class=\"dots\"></span>Hướng dẫn sử dụng:  <div>Xem trong sách hướng dẫn sử dụng</div></li></ul></div><div class=\"c-modal__row\" id=\"data-1\"><div class=\"st-table-title\">Thiết kế &amp; Trọng lượng</div><table class=\"st-table\"><tbody><tr><td>Kích thước</td><td>362.3 x 237.4  x 19.9 mm</td></tr><tr><td>Trọng lượng sản phẩm</td><td>2.1 kg</td></tr><tr><td>Màu sắc</td><td>Đen</td></tr></tbody></table><table class=\"st-table\"><tbody><tr><td>Chất liệu</td><td><ul class=\"st-list\"><li><span class=\"dots\"></span>Nhựa Polycarbonate</li></ul></td></tr></tbody></table></div><div class=\"c-modal__row\" id=\"data-2\"><div class=\"st-table-title\">Bộ xử lý</div><table class=\"st-table\"><tbody><tr><td>Hãng CPU</td><td><a href=\"https://fptshop.com.vn/linh-kien/cpu-intel\" target=\"_blank\">Intel</a></td></tr><tr><td>Công nghệ CPU</td><td>Core i5</td></tr><tr><td>Loại CPU</td><td>12450H</td></tr><tr><td>Tốc độ CPU</td><td><a href=\"https://fptshop.com.vn/tin-tuc/danh-gia/cpu-la-gi-37083\" target=\"_blank\">3.3 Ghz</a></td></tr><tr><td>Tốc độ tối đa</td><td><a href=\"https://fptshop.com.vn/tin-tuc/tin-moi/ghz-la-gi-no-co-quan-trong-khong-122779\" target=\"_blank\">4.4 GHz</a></td></tr><tr><td>Số nhân</td><td>8</td></tr><tr><td>Số luồng</td><td>12</td></tr><tr><td>Bộ nhớ đệm</td><td>12 MB</td></tr></tbody></table></div><div class=\"c-modal__row\" id=\"data-3\"><div class=\"st-table-title\">RAM</div><table class=\"st-table\"><tbody><tr><td>Dung lượng RAM</td><td>8 GB</td></tr><tr><td>Loại RAM</td><td>DDR4</td></tr><tr><td>Tốc độ RAM</td><td><a href=\"https://fptshop.com.vn/tin-tuc/danh-gia/bus-ram-la-gi-lam-the-nao-de-xem-bus-ram-tren-may-tinh-128583\" target=\"_blank\">3200 MHz</a></td></tr><tr><td>Số khe cắm rời</td><td>2</td></tr><tr><td>Số khe RAM còn lại</td><td>1</td></tr><tr><td>Số RAM onboard</td><td>0</td></tr><tr><td>Hỗ trợ RAM tối đa</td><td>32 GB</td></tr></tbody></table></div><div class=\"c-modal__row\" id=\"data-4\"><div class=\"st-table-title\">Màn hình</div><table class=\"st-table\"><tbody><tr><td>Kích thước màn hình</td><td>15.6 inch</td></tr><tr><td>Công nghệ màn hình</td><td>Acer ComfyView LED-backlit</td></tr><tr><td>Độ phân giải</td><td><a href=\"https://fptshop.com.vn/tin-tuc/danh-gia/do-phan-giai-man-hinh-la-gi-9591\" target=\"_blank\">1920 x 1080 Pixels</a></td></tr><tr><td>Tần số quét</td><td><a href=\"https://fptshop.com.vn/tin-tuc/danh-gia/tan-so-quet-la-gi-giai-ma-cuoc-chay-dua-tan-so-quet-man-hinh-tren-smartphone-123132\" target=\"_blank\">60 Hz</a></td></tr><tr><td>Tấm nền</td><td>IPS</td></tr></tbody></table></div><div class=\"c-modal__row\" id=\"data-5\"><div class=\"st-table-title\">Đồ họa</div><div class=\"st-table-wrapper\"><div class=\"st-table-col\"><div class=\"st-table-title\">Card onboard</div><table class=\"st-table\"><tbody><tr><td>Hãng</td><td>Intel</td></tr><tr><td>Model</td><td>UHD</td></tr><tr><td>Bộ nhớ</td><td>Share</td></tr></tbody></table></div></div></div><div class=\"c-modal__row\" id=\"data-6\"><div class=\"st-table-title\">Lưu trữ</div><table class=\"st-table\"><tbody><tr><td>Kiểu ổ cứng</td><td><ul class=\"st-list\"><li><span class=\"dots\"></span>SSD</li></ul></td></tr></tbody></table><div class=\"st-table-wrapper\"><div class=\"st-table-col\"><div class=\"st-table-title\">SSD</div><table class=\"st-table\"><tbody><tr><td>Loại SSD</td><td>M.2 NVMe</td></tr><tr><td>Dung lượng</td><td>512 GB</td></tr></tbody></table></div></div></div><div class=\"c-modal__row\" id=\"data-7\"><div class=\"st-table-title\">Bảo mật</div><ul class=\"st-list\"><li><span class=\"dots\"></span>Mở khóa vân tay</li></ul></div><div class=\"c-modal__row\" id=\"data-8\"><div class=\"st-table-title\">Giao tiếp &amp; kết nối</div><table class=\"st-table\"><tbody><tr><td>Cổng giao tiếp</td><td><ul class=\"st-list\"><li><span class=\"dots\"></span>1 DC-in jack</li><li><span class=\"dots\"></span>1 HDMI 2.0</li><li><span class=\"dots\"></span>1 Jack 3.5 mm</li><li><span class=\"dots\"></span><a class=\"re-link\" href=\"https://fptshop.com.vn/tin-tuc/thu-thuat/cong-ket-noi-lan-la-gi-126826\" target=\"_blank\">1 LAN</a></li><li><span class=\"dots\"></span>3 USB 3.2</li></ul></td></tr></tbody></table><table class=\"st-table\"><tbody><tr><td>Wifi</td><td><ul class=\"st-list\"><li><span class=\"dots\"></span>Wifi 6E</li></ul></td></tr></tbody></table><table class=\"st-table\"><tbody><tr><td>Bluetooth</td><td><a href=\"https://fptshop.com.vn/tin-tuc/danh-gia/bluetooth-la-gi-35571\" target=\"_blank\">v5.1</a></td></tr></tbody></table><table class=\"st-table\"><tbody><tr><td>Webcam</td><td><ul class=\"st-row\"><li><span class=\"dots\"></span><a class=\"re-link\" href=\"https://fptshop.com.vn/tin-tuc/danh-gia/webcam-tren-laptop-va-nhung-cong-dung-tuyet-voi-56368\" target=\"_blank\">HD Webcam (720p Webcam)</a></li></ul></td></tr></tbody></table></div><div class=\"c-modal__row\" id=\"data-9\"><div class=\"st-table-title\">Bàn phím &amp; TouchPad</div><table class=\"st-table\"><tbody><tr><td>Kiểu bàn phím</td><td>6-row, multimedia Fn keys</td></tr><tr><td>Bàn phím số</td><td>Có</td></tr><tr><td>Đèn bàn phím</td><td>LED</td></tr><tr><td>Công nghệ đèn bàn phím</td><td>Đơn sắc</td></tr><tr><td>TouchPad</td><td>Multi-touch touchpad</td></tr></tbody></table></div><div class=\"c-modal__row\" id=\"data-10\"><div class=\"st-table-title\">Thông tin pin &amp; Sạc</div><table class=\"st-table\"><tbody><tr><td>Dung lượng pin</td><td><ul class=\"st-list\"><li><span class=\"dots\"></span>50 Wh</li></ul></td></tr></tbody></table></div><div class=\"c-modal__row\" id=\"data-11\"><div class=\"st-table-title\">Hệ điều hành</div><table class=\"st-table\"><tbody><tr><td>OS</td><td>Windows</td></tr><tr><td>Version</td><td>Windows 11 Home Single Language</td></tr><tr><td>Type</td><td>64 bit</td></tr></tbody></table></div><div class=\"c-modal__row\" id=\"data-12\"><div class=\"st-table-title\">Phụ kiện trong hộp</div><div class=\"st-modal-accessories\"><div class=\"item\"><span><i class=\"ic-doc\"></i></span><p class=\"re-para\">Sách HDSD</p></div><div class=\"item\"><span><i class=\"ic-power\"></i></span><p class=\"re-para\">Bộ sạc điện</p></div></div></div></div>"
      ]
     },
     "execution_count": 5,
     "metadata": {},
     "output_type": "execute_result"
    }
   ],
   "source": [
    "with open('data/fpt/detail_htmls/acer_0.html', 'r', encoding='utf-8') as f:\n",
    "    html = f.read()\n",
    "\n",
    "soup = bs(html, 'html.parser')\n",
    "\n",
    "modal_content = soup.find('div', {'class': 'c-modal__content'})\n",
    "\n",
    "modal_content"
   ]
  },
  {
   "cell_type": "code",
   "execution_count": 16,
   "metadata": {},
   "outputs": [
    {
     "name": "stdout",
     "output_type": "stream",
     "text": [
      "==>> st_table_title: Thông tin hàng hóa\n",
      "------------------------------------------------------------------------------------------------------------------------------------------------------\n",
      "==>> st_table_title: Thiết kế & Trọng lượng\n",
      "==>> cols: [<td>Kích thước</td>, <td>362.3 x 237.4  x 19.9 mm</td>]\n",
      "==>> cols: [<td>Trọng lượng sản phẩm</td>, <td>2.1 kg</td>]\n",
      "==>> cols: [<td>Màu sắc</td>, <td>Đen</td>]\n",
      "------------------------------------------------------------------------------------------------------------------------------------------------------\n",
      "==>> st_table_title: Bộ xử lý\n",
      "==>> cols: [<td>Hãng CPU</td>, <td><a href=\"https://fptshop.com.vn/linh-kien/cpu-intel\" target=\"_blank\">Intel</a></td>]\n",
      "==>> cols: [<td>Công nghệ CPU</td>, <td>Core i5</td>]\n",
      "==>> cols: [<td>Loại CPU</td>, <td>12450H</td>]\n",
      "==>> cols: [<td>Tốc độ CPU</td>, <td><a href=\"https://fptshop.com.vn/tin-tuc/danh-gia/cpu-la-gi-37083\" target=\"_blank\">3.3 Ghz</a></td>]\n",
      "==>> cols: [<td>Tốc độ tối đa</td>, <td><a href=\"https://fptshop.com.vn/tin-tuc/tin-moi/ghz-la-gi-no-co-quan-trong-khong-122779\" target=\"_blank\">4.4 GHz</a></td>]\n",
      "==>> cols: [<td>Số nhân</td>, <td>8</td>]\n",
      "==>> cols: [<td>Số luồng</td>, <td>12</td>]\n",
      "==>> cols: [<td>Bộ nhớ đệm</td>, <td>12 MB</td>]\n",
      "------------------------------------------------------------------------------------------------------------------------------------------------------\n",
      "==>> st_table_title: RAM\n",
      "==>> cols: [<td>Dung lượng RAM</td>, <td>8 GB</td>]\n",
      "==>> cols: [<td>Loại RAM</td>, <td>DDR4</td>]\n",
      "==>> cols: [<td>Tốc độ RAM</td>, <td><a href=\"https://fptshop.com.vn/tin-tuc/danh-gia/bus-ram-la-gi-lam-the-nao-de-xem-bus-ram-tren-may-tinh-128583\" target=\"_blank\">3200 MHz</a></td>]\n",
      "==>> cols: [<td>Số khe cắm rời</td>, <td>2</td>]\n",
      "==>> cols: [<td>Số khe RAM còn lại</td>, <td>1</td>]\n",
      "==>> cols: [<td>Số RAM onboard</td>, <td>0</td>]\n",
      "==>> cols: [<td>Hỗ trợ RAM tối đa</td>, <td>32 GB</td>]\n",
      "------------------------------------------------------------------------------------------------------------------------------------------------------\n",
      "==>> st_table_title: Màn hình\n",
      "==>> cols: [<td>Kích thước màn hình</td>, <td>15.6 inch</td>]\n",
      "==>> cols: [<td>Công nghệ màn hình</td>, <td>Acer ComfyView LED-backlit</td>]\n",
      "==>> cols: [<td>Độ phân giải</td>, <td><a href=\"https://fptshop.com.vn/tin-tuc/danh-gia/do-phan-giai-man-hinh-la-gi-9591\" target=\"_blank\">1920 x 1080 Pixels</a></td>]\n",
      "==>> cols: [<td>Tần số quét</td>, <td><a href=\"https://fptshop.com.vn/tin-tuc/danh-gia/tan-so-quet-la-gi-giai-ma-cuoc-chay-dua-tan-so-quet-man-hinh-tren-smartphone-123132\" target=\"_blank\">60 Hz</a></td>]\n",
      "==>> cols: [<td>Tấm nền</td>, <td>IPS</td>]\n",
      "------------------------------------------------------------------------------------------------------------------------------------------------------\n",
      "==>> st_table_title: Đồ họa\n",
      "==>> cols: [<td>Hãng</td>, <td>Intel</td>]\n",
      "==>> cols: [<td>Model</td>, <td>UHD</td>]\n",
      "==>> cols: [<td>Bộ nhớ</td>, <td>Share</td>]\n",
      "------------------------------------------------------------------------------------------------------------------------------------------------------\n",
      "==>> st_table_title: Lưu trữ\n",
      "==>> cols: [<td>Kiểu ổ cứng</td>, <td><ul class=\"st-list\"><li><span class=\"dots\"></span>SSD</li></ul></td>]\n",
      "------------------------------------------------------------------------------------------------------------------------------------------------------\n",
      "==>> st_table_title: Bảo mật\n",
      "------------------------------------------------------------------------------------------------------------------------------------------------------\n",
      "==>> st_table_title: Giao tiếp & kết nối\n",
      "==>> cols: [<td>Cổng giao tiếp</td>, <td><ul class=\"st-list\"><li><span class=\"dots\"></span>1 DC-in jack</li><li><span class=\"dots\"></span>1 HDMI 2.0</li><li><span class=\"dots\"></span>1 Jack 3.5 mm</li><li><span class=\"dots\"></span><a class=\"re-link\" href=\"https://fptshop.com.vn/tin-tuc/thu-thuat/cong-ket-noi-lan-la-gi-126826\" target=\"_blank\">1 LAN</a></li><li><span class=\"dots\"></span>3 USB 3.2</li></ul></td>]\n",
      "------------------------------------------------------------------------------------------------------------------------------------------------------\n",
      "==>> st_table_title: Bàn phím & TouchPad\n",
      "==>> cols: [<td>Kiểu bàn phím</td>, <td>6-row, multimedia Fn keys</td>]\n",
      "==>> cols: [<td>Bàn phím số</td>, <td>Có</td>]\n",
      "==>> cols: [<td>Đèn bàn phím</td>, <td>LED</td>]\n",
      "==>> cols: [<td>Công nghệ đèn bàn phím</td>, <td>Đơn sắc</td>]\n",
      "==>> cols: [<td>TouchPad</td>, <td>Multi-touch touchpad</td>]\n",
      "------------------------------------------------------------------------------------------------------------------------------------------------------\n",
      "==>> st_table_title: Thông tin pin & Sạc\n",
      "==>> cols: [<td>Dung lượng pin</td>, <td><ul class=\"st-list\"><li><span class=\"dots\"></span>50 Wh</li></ul></td>]\n",
      "------------------------------------------------------------------------------------------------------------------------------------------------------\n",
      "==>> st_table_title: Hệ điều hành\n",
      "==>> cols: [<td>OS</td>, <td>Windows</td>]\n",
      "==>> cols: [<td>Version</td>, <td>Windows 11 Home Single Language</td>]\n",
      "==>> cols: [<td>Type</td>, <td>64 bit</td>]\n",
      "------------------------------------------------------------------------------------------------------------------------------------------------------\n",
      "==>> st_table_title: Phụ kiện trong hộp\n",
      "------------------------------------------------------------------------------------------------------------------------------------------------------\n"
     ]
    }
   ],
   "source": [
    "rows = modal_content.find_all('div', {'class': 'c-modal__row'})\n",
    "\n",
    "for row in rows:\n",
    "    st_table_title = row.find('div', {'class': 'st-table-title'}).text.strip()\n",
    "    print(f\"==>> st_table_title: {st_table_title}\")\n",
    "    table = row.find('table')\n",
    "    \n",
    "    if table is None:\n",
    "        print('-'*150)\n",
    "        continue\n",
    "    \n",
    "    row_of_table = table.find_all('tr')\n",
    "    \n",
    "    for row in row_of_table:\n",
    "        cols = row.find_all('td')\n",
    "        print(f\"==>> cols: {cols}\")\n",
    "    \n",
    "    print('-'*150)\n",
    "    "
   ]
  }
 ],
 "metadata": {
  "kernelspec": {
   "display_name": ".venv",
   "language": "python",
   "name": "python3"
  },
  "language_info": {
   "codemirror_mode": {
    "name": "ipython",
    "version": 3
   },
   "file_extension": ".py",
   "mimetype": "text/x-python",
   "name": "python",
   "nbconvert_exporter": "python",
   "pygments_lexer": "ipython3",
   "version": "3.11.6"
  }
 },
 "nbformat": 4,
 "nbformat_minor": 2
}
